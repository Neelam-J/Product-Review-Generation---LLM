{
 "cells": [
  {
   "cell_type": "markdown",
   "id": "e54fdacd",
   "metadata": {},
   "source": [
    "## Fine-Tuning T5 for Product Review Generation"
   ]
  },
  {
   "cell_type": "code",
   "execution_count": 2,
   "id": "6183f775",
   "metadata": {},
   "outputs": [
    {
     "name": "stdout",
     "output_type": "stream",
     "text": [
      "Collecting numpy==1.25.1\n",
      "  Downloading numpy-1.25.1-cp310-cp310-win_amd64.whl.metadata (5.7 kB)\n",
      "Downloading numpy-1.25.1-cp310-cp310-win_amd64.whl (15.0 MB)\n",
      "   ---------------------------------------- 0.0/15.0 MB ? eta -:--:--\n",
      "   ---------------------------------------- 0.1/15.0 MB 3.8 MB/s eta 0:00:04\n",
      "   - -------------------------------------- 0.5/15.0 MB 3.5 MB/s eta 0:00:05\n",
      "   -- ------------------------------------- 1.1/15.0 MB 5.7 MB/s eta 0:00:03\n",
      "   ---- ----------------------------------- 1.8/15.0 MB 7.7 MB/s eta 0:00:02\n",
      "   ---- ----------------------------------- 1.8/15.0 MB 6.5 MB/s eta 0:00:03\n",
      "   ----- ---------------------------------- 2.0/15.0 MB 6.8 MB/s eta 0:00:02\n",
      "   ------ --------------------------------- 2.5/15.0 MB 6.6 MB/s eta 0:00:02\n",
      "   ------- -------------------------------- 3.0/15.0 MB 7.0 MB/s eta 0:00:02\n",
      "   -------- ------------------------------- 3.1/15.0 MB 7.2 MB/s eta 0:00:02\n",
      "   ---------- ----------------------------- 3.8/15.0 MB 7.2 MB/s eta 0:00:02\n",
      "   ---------- ----------------------------- 4.0/15.0 MB 7.3 MB/s eta 0:00:02\n",
      "   ------------ --------------------------- 4.5/15.0 MB 7.2 MB/s eta 0:00:02\n",
      "   ------------ --------------------------- 4.9/15.0 MB 7.4 MB/s eta 0:00:02\n",
      "   ------------- -------------------------- 5.2/15.0 MB 7.2 MB/s eta 0:00:02\n",
      "   ------------- -------------------------- 5.2/15.0 MB 7.1 MB/s eta 0:00:02\n",
      "   -------------- ------------------------- 5.4/15.0 MB 6.7 MB/s eta 0:00:02\n",
      "   --------------- ------------------------ 5.8/15.0 MB 6.8 MB/s eta 0:00:02\n",
      "   ---------------- ----------------------- 6.3/15.0 MB 6.9 MB/s eta 0:00:02\n",
      "   ----------------- ---------------------- 6.7/15.0 MB 7.0 MB/s eta 0:00:02\n",
      "   ------------------- -------------------- 7.3/15.0 MB 7.1 MB/s eta 0:00:02\n",
      "   -------------------- ------------------- 7.7/15.0 MB 7.0 MB/s eta 0:00:02\n",
      "   ---------------------- ----------------- 8.4/15.0 MB 7.1 MB/s eta 0:00:01\n",
      "   ---------------------- ----------------- 8.4/15.0 MB 7.1 MB/s eta 0:00:01\n",
      "   ---------------------- ----------------- 8.4/15.0 MB 7.1 MB/s eta 0:00:01\n",
      "   ---------------------- ----------------- 8.5/15.0 MB 6.4 MB/s eta 0:00:02\n",
      "   ----------------------- ---------------- 8.9/15.0 MB 6.5 MB/s eta 0:00:01\n",
      "   ------------------------ --------------- 9.3/15.0 MB 6.4 MB/s eta 0:00:01\n",
      "   ------------------------- -------------- 9.7/15.0 MB 6.5 MB/s eta 0:00:01\n",
      "   -------------------------- ------------- 10.1/15.0 MB 6.6 MB/s eta 0:00:01\n",
      "   ---------------------------- ----------- 10.6/15.0 MB 6.9 MB/s eta 0:00:01\n",
      "   ----------------------------- ---------- 11.1/15.0 MB 7.0 MB/s eta 0:00:01\n",
      "   ------------------------------ --------- 11.6/15.0 MB 7.0 MB/s eta 0:00:01\n",
      "   -------------------------------- ------- 12.0/15.0 MB 6.8 MB/s eta 0:00:01\n",
      "   --------------------------------- ------ 12.5/15.0 MB 7.2 MB/s eta 0:00:01\n",
      "   ---------------------------------- ----- 12.9/15.0 MB 7.2 MB/s eta 0:00:01\n",
      "   ----------------------------------- ---- 13.3/15.0 MB 7.1 MB/s eta 0:00:01\n",
      "   ------------------------------------ --- 13.8/15.0 MB 7.3 MB/s eta 0:00:01\n",
      "   ------------------------------------- -- 14.2/15.0 MB 7.2 MB/s eta 0:00:01\n",
      "   -------------------------------------- - 14.7/15.0 MB 7.3 MB/s eta 0:00:01\n",
      "   ---------------------------------------  14.7/15.0 MB 7.1 MB/s eta 0:00:01\n",
      "   ---------------------------------------  15.0/15.0 MB 7.0 MB/s eta 0:00:01\n",
      "   ---------------------------------------  15.0/15.0 MB 7.0 MB/s eta 0:00:01\n",
      "   ---------------------------------------- 15.0/15.0 MB 6.5 MB/s eta 0:00:00\n",
      "Installing collected packages: numpy\n",
      "  Attempting uninstall: numpy\n",
      "    Found existing installation: numpy 1.23.5\n",
      "    Uninstalling numpy-1.23.5:\n",
      "      Successfully uninstalled numpy-1.23.5\n",
      "Successfully installed numpy-1.25.1\n"
     ]
    },
    {
     "name": "stderr",
     "output_type": "stream",
     "text": [
      "  WARNING: Failed to remove contents in a temporary directory 'C:\\Users\\neo\\anaconda3\\Lib\\site-packages\\~umpy'.\n",
      "  You can safely remove it manually.\n",
      "ERROR: pip's dependency resolver does not currently take into account all the packages that are installed. This behaviour is the source of the following dependency conflicts.\n",
      "gensim 4.3.0 requires FuzzyTM>=0.4.0, which is not installed.\n",
      "numba 0.56.4 requires numpy<1.24,>=1.18, but you have numpy 1.25.1 which is incompatible.\n"
     ]
    },
    {
     "name": "stdout",
     "output_type": "stream",
     "text": [
      "Requirement already satisfied: transformers[torch] in c:\\users\\neo\\anaconda3\\lib\\site-packages (4.24.0)\n",
      "Requirement already satisfied: filelock in c:\\users\\neo\\anaconda3\\lib\\site-packages (from transformers[torch]) (3.13.4)\n",
      "Requirement already satisfied: huggingface-hub<1.0,>=0.10.0 in c:\\users\\neo\\anaconda3\\lib\\site-packages (from transformers[torch]) (0.10.1)\n",
      "Requirement already satisfied: numpy>=1.17 in c:\\users\\neo\\anaconda3\\lib\\site-packages (from transformers[torch]) (1.25.1)\n",
      "Requirement already satisfied: packaging>=20.0 in c:\\users\\neo\\anaconda3\\lib\\site-packages (from transformers[torch]) (22.0)\n",
      "Requirement already satisfied: pyyaml>=5.1 in c:\\users\\neo\\anaconda3\\lib\\site-packages (from transformers[torch]) (6.0)\n",
      "Requirement already satisfied: regex!=2019.12.17 in c:\\users\\neo\\anaconda3\\lib\\site-packages (from transformers[torch]) (2022.7.9)\n",
      "Requirement already satisfied: requests in c:\\users\\neo\\anaconda3\\lib\\site-packages (from transformers[torch]) (2.28.1)\n",
      "Requirement already satisfied: tokenizers!=0.11.3,<0.14,>=0.11.1 in c:\\users\\neo\\anaconda3\\lib\\site-packages (from transformers[torch]) (0.11.4)\n",
      "Requirement already satisfied: tqdm>=4.27 in c:\\users\\neo\\anaconda3\\lib\\site-packages (from transformers[torch]) (4.64.1)\n",
      "Requirement already satisfied: torch!=1.12.0,>=1.7 in c:\\users\\neo\\anaconda3\\lib\\site-packages (from transformers[torch]) (1.12.1)\n",
      "Requirement already satisfied: typing-extensions>=3.7.4.3 in c:\\users\\neo\\anaconda3\\lib\\site-packages (from huggingface-hub<1.0,>=0.10.0->transformers[torch]) (4.10.0)\n",
      "Requirement already satisfied: colorama in c:\\users\\neo\\anaconda3\\lib\\site-packages (from tqdm>=4.27->transformers[torch]) (0.4.6)\n",
      "Requirement already satisfied: charset-normalizer<3,>=2 in c:\\users\\neo\\anaconda3\\lib\\site-packages (from requests->transformers[torch]) (2.0.4)\n",
      "Requirement already satisfied: idna<4,>=2.5 in c:\\users\\neo\\anaconda3\\lib\\site-packages (from requests->transformers[torch]) (3.6)\n",
      "Requirement already satisfied: urllib3<1.27,>=1.21.1 in c:\\users\\neo\\anaconda3\\lib\\site-packages (from requests->transformers[torch]) (1.26.14)\n",
      "Requirement already satisfied: certifi>=2017.4.17 in c:\\users\\neo\\anaconda3\\lib\\site-packages (from requests->transformers[torch]) (2023.11.17)\n",
      "Collecting datasets===2.13.1\n",
      "  Downloading datasets-2.13.1-py3-none-any.whl.metadata (20 kB)\n",
      "Requirement already satisfied: numpy>=1.17 in c:\\users\\neo\\anaconda3\\lib\\site-packages (from datasets===2.13.1) (1.25.1)\n",
      "Collecting pyarrow>=8.0.0 (from datasets===2.13.1)\n",
      "  Downloading pyarrow-16.1.0-cp310-cp310-win_amd64.whl.metadata (3.1 kB)\n",
      "Requirement already satisfied: dill<0.3.7,>=0.3.0 in c:\\users\\neo\\anaconda3\\lib\\site-packages (from datasets===2.13.1) (0.3.6)\n",
      "Requirement already satisfied: pandas in c:\\users\\neo\\anaconda3\\lib\\site-packages (from datasets===2.13.1) (1.5.3)\n",
      "Requirement already satisfied: requests>=2.19.0 in c:\\users\\neo\\anaconda3\\lib\\site-packages (from datasets===2.13.1) (2.28.1)\n",
      "Requirement already satisfied: tqdm>=4.62.1 in c:\\users\\neo\\anaconda3\\lib\\site-packages (from datasets===2.13.1) (4.64.1)\n",
      "Collecting xxhash (from datasets===2.13.1)\n",
      "  Downloading xxhash-3.4.1-cp310-cp310-win_amd64.whl.metadata (12 kB)\n",
      "Collecting multiprocess (from datasets===2.13.1)\n",
      "  Downloading multiprocess-0.70.16-py310-none-any.whl.metadata (7.2 kB)\n",
      "Requirement already satisfied: fsspec>=2021.11.1 in c:\\users\\neo\\anaconda3\\lib\\site-packages (from fsspec[http]>=2021.11.1->datasets===2.13.1) (2022.11.0)\n",
      "Collecting aiohttp (from datasets===2.13.1)\n",
      "  Downloading aiohttp-3.9.5-cp310-cp310-win_amd64.whl.metadata (7.7 kB)\n",
      "Collecting huggingface-hub<1.0.0,>=0.11.0 (from datasets===2.13.1)\n",
      "  Downloading huggingface_hub-0.23.2-py3-none-any.whl.metadata (12 kB)\n",
      "Requirement already satisfied: packaging in c:\\users\\neo\\anaconda3\\lib\\site-packages (from datasets===2.13.1) (22.0)\n",
      "Requirement already satisfied: pyyaml>=5.1 in c:\\users\\neo\\anaconda3\\lib\\site-packages (from datasets===2.13.1) (6.0)\n",
      "Collecting aiosignal>=1.1.2 (from aiohttp->datasets===2.13.1)\n",
      "  Downloading aiosignal-1.3.1-py3-none-any.whl.metadata (4.0 kB)\n",
      "Requirement already satisfied: attrs>=17.3.0 in c:\\users\\neo\\anaconda3\\lib\\site-packages (from aiohttp->datasets===2.13.1) (22.1.0)\n",
      "Collecting frozenlist>=1.1.1 (from aiohttp->datasets===2.13.1)\n",
      "  Downloading frozenlist-1.4.1-cp310-cp310-win_amd64.whl.metadata (12 kB)\n",
      "Collecting multidict<7.0,>=4.5 (from aiohttp->datasets===2.13.1)\n",
      "  Downloading multidict-6.0.5-cp310-cp310-win_amd64.whl.metadata (4.3 kB)\n",
      "Collecting yarl<2.0,>=1.0 (from aiohttp->datasets===2.13.1)\n",
      "  Downloading yarl-1.9.4-cp310-cp310-win_amd64.whl.metadata (32 kB)\n",
      "Collecting async-timeout<5.0,>=4.0 (from aiohttp->datasets===2.13.1)\n",
      "  Downloading async_timeout-4.0.3-py3-none-any.whl.metadata (4.2 kB)\n",
      "Requirement already satisfied: filelock in c:\\users\\neo\\anaconda3\\lib\\site-packages (from huggingface-hub<1.0.0,>=0.11.0->datasets===2.13.1) (3.13.4)\n",
      "INFO: pip is looking at multiple versions of huggingface-hub to determine which version is compatible with other requirements. This could take a while.\n",
      "Collecting huggingface-hub<1.0.0,>=0.11.0 (from datasets===2.13.1)\n",
      "  Downloading huggingface_hub-0.23.1-py3-none-any.whl.metadata (12 kB)\n",
      "  Downloading huggingface_hub-0.23.0-py3-none-any.whl.metadata (12 kB)\n",
      "  Downloading huggingface_hub-0.22.2-py3-none-any.whl.metadata (12 kB)\n",
      "  Downloading huggingface_hub-0.22.1-py3-none-any.whl.metadata (12 kB)\n",
      "  Downloading huggingface_hub-0.22.0-py3-none-any.whl.metadata (12 kB)\n",
      "  Downloading huggingface_hub-0.21.4-py3-none-any.whl.metadata (13 kB)\n",
      "  Downloading huggingface_hub-0.21.3-py3-none-any.whl.metadata (13 kB)\n",
      "INFO: pip is still looking at multiple versions of huggingface-hub to determine which version is compatible with other requirements. This could take a while.\n",
      "  Downloading huggingface_hub-0.21.2-py3-none-any.whl.metadata (13 kB)\n",
      "  Downloading huggingface_hub-0.21.1-py3-none-any.whl.metadata (13 kB)\n",
      "  Downloading huggingface_hub-0.21.0-py3-none-any.whl.metadata (13 kB)\n",
      "  Downloading huggingface_hub-0.20.3-py3-none-any.whl.metadata (12 kB)\n",
      "  Downloading huggingface_hub-0.20.2-py3-none-any.whl.metadata (12 kB)\n",
      "INFO: This is taking longer than usual. You might need to provide the dependency resolver with stricter constraints to reduce runtime. See https://pip.pypa.io/warnings/backtracking for guidance. If you want to abort this run, press Ctrl + C.\n",
      "  Downloading huggingface_hub-0.20.1-py3-none-any.whl.metadata (12 kB)\n",
      "  Downloading huggingface_hub-0.20.0-py3-none-any.whl.metadata (12 kB)\n",
      "  Downloading huggingface_hub-0.19.4-py3-none-any.whl.metadata (14 kB)\n",
      "  Downloading huggingface_hub-0.19.3-py3-none-any.whl.metadata (14 kB)\n",
      "  Downloading huggingface_hub-0.19.2-py3-none-any.whl.metadata (13 kB)\n",
      "  Downloading huggingface_hub-0.19.1-py3-none-any.whl.metadata (13 kB)\n",
      "  Downloading huggingface_hub-0.19.0-py3-none-any.whl.metadata (13 kB)\n",
      "  Downloading huggingface_hub-0.18.0-py3-none-any.whl.metadata (13 kB)\n",
      "  Downloading huggingface_hub-0.17.3-py3-none-any.whl.metadata (13 kB)\n",
      "Requirement already satisfied: typing-extensions>=3.7.4.3 in c:\\users\\neo\\anaconda3\\lib\\site-packages (from huggingface-hub<1.0.0,>=0.11.0->datasets===2.13.1) (4.10.0)\n",
      "Requirement already satisfied: charset-normalizer<3,>=2 in c:\\users\\neo\\anaconda3\\lib\\site-packages (from requests>=2.19.0->datasets===2.13.1) (2.0.4)\n",
      "Requirement already satisfied: idna<4,>=2.5 in c:\\users\\neo\\anaconda3\\lib\\site-packages (from requests>=2.19.0->datasets===2.13.1) (3.6)\n",
      "Requirement already satisfied: urllib3<1.27,>=1.21.1 in c:\\users\\neo\\anaconda3\\lib\\site-packages (from requests>=2.19.0->datasets===2.13.1) (1.26.14)\n",
      "Requirement already satisfied: certifi>=2017.4.17 in c:\\users\\neo\\anaconda3\\lib\\site-packages (from requests>=2.19.0->datasets===2.13.1) (2023.11.17)\n",
      "Requirement already satisfied: colorama in c:\\users\\neo\\anaconda3\\lib\\site-packages (from tqdm>=4.62.1->datasets===2.13.1) (0.4.6)\n",
      "INFO: pip is looking at multiple versions of multiprocess to determine which version is compatible with other requirements. This could take a while.\n",
      "Collecting multiprocess (from datasets===2.13.1)\n",
      "  Downloading multiprocess-0.70.15-py310-none-any.whl.metadata (7.2 kB)\n",
      "  Downloading multiprocess-0.70.14-py310-none-any.whl.metadata (6.6 kB)\n",
      "Requirement already satisfied: python-dateutil>=2.8.1 in c:\\users\\neo\\anaconda3\\lib\\site-packages (from pandas->datasets===2.13.1) (2.8.2)\n",
      "Requirement already satisfied: pytz>=2020.1 in c:\\users\\neo\\anaconda3\\lib\\site-packages (from pandas->datasets===2.13.1) (2022.7)\n",
      "Requirement already satisfied: six>=1.5 in c:\\users\\neo\\anaconda3\\lib\\site-packages (from python-dateutil>=2.8.1->pandas->datasets===2.13.1) (1.16.0)\n",
      "Downloading datasets-2.13.1-py3-none-any.whl (486 kB)\n",
      "   ---------------------------------------- 0.0/486.2 kB ? eta -:--:--\n",
      "   ------------- -------------------------- 163.8/486.2 kB 3.3 MB/s eta 0:00:01\n",
      "   --------------------------- ------------ 337.9/486.2 kB 2.6 MB/s eta 0:00:01\n",
      "   ---------------------------------------  481.3/486.2 kB 2.7 MB/s eta 0:00:01\n",
      "   ---------------------------------------- 486.2/486.2 kB 2.2 MB/s eta 0:00:00\n",
      "Downloading aiohttp-3.9.5-cp310-cp310-win_amd64.whl (370 kB)\n",
      "   ---------------------------------------- 0.0/370.7 kB ? eta -:--:--\n",
      "   --------------------------------------  368.6/370.7 kB 11.6 MB/s eta 0:00:01\n",
      "   ---------------------------------------- 370.7/370.7 kB 3.8 MB/s eta 0:00:00\n",
      "Downloading huggingface_hub-0.17.3-py3-none-any.whl (295 kB)\n",
      "   ---------------------------------------- 0.0/295.0 kB ? eta -:--:--\n",
      "   ---------------------------------------- 295.0/295.0 kB 9.2 MB/s eta 0:00:00\n",
      "Downloading pyarrow-16.1.0-cp310-cp310-win_amd64.whl (25.9 MB)\n",
      "   ---------------------------------------- 0.0/25.9 MB ? eta -:--:--\n",
      "   -- ------------------------------------- 1.3/25.9 MB 13.9 MB/s eta 0:00:02\n",
      "   -- ------------------------------------- 1.8/25.9 MB 12.6 MB/s eta 0:00:02\n",
      "   --- ------------------------------------ 2.5/25.9 MB 11.6 MB/s eta 0:00:03\n",
      "   ---- ----------------------------------- 3.2/25.9 MB 10.7 MB/s eta 0:00:03\n",
      "   ------ --------------------------------- 3.9/25.9 MB 10.9 MB/s eta 0:00:03\n",
      "   ------- -------------------------------- 4.8/25.9 MB 11.1 MB/s eta 0:00:02\n",
      "   ------- -------------------------------- 5.0/25.9 MB 10.0 MB/s eta 0:00:03\n",
      "   --------- ------------------------------ 5.9/25.9 MB 10.4 MB/s eta 0:00:02\n",
      "   --------- ------------------------------ 6.0/25.9 MB 9.9 MB/s eta 0:00:03\n",
      "   --------- ------------------------------ 6.4/25.9 MB 9.8 MB/s eta 0:00:02\n",
      "   ----------- ---------------------------- 7.2/25.9 MB 9.8 MB/s eta 0:00:02\n",
      "   ----------- ---------------------------- 7.6/25.9 MB 9.9 MB/s eta 0:00:02\n",
      "   ------------ --------------------------- 8.0/25.9 MB 9.9 MB/s eta 0:00:02\n",
      "   ------------ --------------------------- 8.3/25.9 MB 9.5 MB/s eta 0:00:02\n",
      "   ------------- -------------------------- 8.9/25.9 MB 9.4 MB/s eta 0:00:02\n",
      "   -------------- ------------------------- 9.3/25.9 MB 9.5 MB/s eta 0:00:02\n",
      "   -------------- ------------------------- 9.5/25.9 MB 9.5 MB/s eta 0:00:02\n",
      "   --------------- ------------------------ 9.9/25.9 MB 8.7 MB/s eta 0:00:02\n",
      "   ----------------- ---------------------- 11.5/25.9 MB 8.5 MB/s eta 0:00:02\n",
      "   ------------------ --------------------- 12.3/25.9 MB 8.7 MB/s eta 0:00:02\n",
      "   --------------------- ------------------ 13.6/25.9 MB 9.0 MB/s eta 0:00:02\n",
      "   ----------------------- ---------------- 14.9/25.9 MB 8.8 MB/s eta 0:00:02\n",
      "   ------------------------- -------------- 16.6/25.9 MB 9.8 MB/s eta 0:00:01\n",
      "   --------------------------- ------------ 17.7/25.9 MB 10.1 MB/s eta 0:00:01\n",
      "   ---------------------------- ----------- 18.5/25.9 MB 10.1 MB/s eta 0:00:01\n",
      "   ------------------------------- -------- 20.1/25.9 MB 10.4 MB/s eta 0:00:01\n",
      "   -------------------------------- ------- 20.8/25.9 MB 10.7 MB/s eta 0:00:01\n",
      "   -------------------------------- ------- 21.1/25.9 MB 10.1 MB/s eta 0:00:01\n",
      "   --------------------------------- ------ 21.5/25.9 MB 9.8 MB/s eta 0:00:01\n",
      "   --------------------------------- ------ 21.6/25.9 MB 8.5 MB/s eta 0:00:01\n",
      "   ----------------------------------- ---- 22.8/25.9 MB 8.5 MB/s eta 0:00:01\n",
      "   -------------------------------------- - 24.6/25.9 MB 8.1 MB/s eta 0:00:01\n",
      "   -------------------------------------- - 25.2/25.9 MB 7.9 MB/s eta 0:00:01\n",
      "   ---------------------------------------  25.9/25.9 MB 7.8 MB/s eta 0:00:01\n",
      "   ---------------------------------------  25.9/25.9 MB 7.8 MB/s eta 0:00:01\n",
      "   ---------------------------------------  25.9/25.9 MB 7.8 MB/s eta 0:00:01\n",
      "   ---------------------------------------  25.9/25.9 MB 7.8 MB/s eta 0:00:01\n",
      "   ---------------------------------------- 25.9/25.9 MB 6.2 MB/s eta 0:00:00\n",
      "Downloading multiprocess-0.70.14-py310-none-any.whl (134 kB)\n",
      "   ---------------------------------------- 0.0/134.3 kB ? eta -:--:--\n",
      "   ---------------------------------------  133.1/134.3 kB 4.0 MB/s eta 0:00:01\n",
      "   ---------------------------------------- 134.3/134.3 kB 1.6 MB/s eta 0:00:00\n",
      "Downloading xxhash-3.4.1-cp310-cp310-win_amd64.whl (29 kB)\n",
      "Downloading aiosignal-1.3.1-py3-none-any.whl (7.6 kB)\n",
      "Downloading async_timeout-4.0.3-py3-none-any.whl (5.7 kB)\n",
      "Downloading frozenlist-1.4.1-cp310-cp310-win_amd64.whl (50 kB)\n",
      "   ---------------------------------------- 0.0/50.4 kB ? eta -:--:--\n",
      "   ---------------------------------------- 50.4/50.4 kB 2.7 MB/s eta 0:00:00\n",
      "Downloading multidict-6.0.5-cp310-cp310-win_amd64.whl (28 kB)\n",
      "Downloading yarl-1.9.4-cp310-cp310-win_amd64.whl (76 kB)\n",
      "   ---------------------------------------- 0.0/76.4 kB ? eta -:--:--\n",
      "   ---------------------------------------- 76.4/76.4 kB 2.1 MB/s eta 0:00:00\n",
      "Installing collected packages: xxhash, pyarrow, multiprocess, multidict, frozenlist, async-timeout, yarl, huggingface-hub, aiosignal, aiohttp, datasets\n",
      "  Attempting uninstall: huggingface-hub\n",
      "    Found existing installation: huggingface-hub 0.10.1\n",
      "    Uninstalling huggingface-hub-0.10.1:\n",
      "      Successfully uninstalled huggingface-hub-0.10.1\n",
      "Successfully installed aiohttp-3.9.5 aiosignal-1.3.1 async-timeout-4.0.3 datasets-2.13.1 frozenlist-1.4.1 huggingface-hub-0.17.3 multidict-6.0.5 multiprocess-0.70.14 pyarrow-16.1.0 xxhash-3.4.1 yarl-1.9.4\n"
     ]
    }
   ],
   "source": [
    "## required libraries to install\n",
    "\n",
    "!pip install numpy==1.25.1\n",
    "!pip install transformers[torch]\n",
    "!pip install datasets===2.13.1"
   ]
  },
  {
   "cell_type": "code",
   "execution_count": 3,
   "id": "2c9a0da0",
   "metadata": {},
   "outputs": [],
   "source": [
    "## modules to utilize the T5 model\n",
    "\n",
    "import numpy as np\n",
    "import pandas as pd\n",
    "from datasets import load_dataset, Dataset\n",
    "from transformers import T5Tokenizer, T5ForConditionalGeneration, Trainer, TrainingArguments\n",
    "from transformers import DataCollatorWithPadding"
   ]
  },
  {
   "cell_type": "code",
   "execution_count": 4,
   "id": "c3e5e652",
   "metadata": {},
   "outputs": [
    {
     "data": {
      "application/vnd.jupyter.widget-view+json": {
       "model_id": "157cb77de62a4e58877daa056816bfc0",
       "version_major": 2,
       "version_minor": 0
      },
      "text/plain": [
       "Downloading builder script:   0%|          | 0.00/39.6k [00:00<?, ?B/s]"
      ]
     },
     "metadata": {},
     "output_type": "display_data"
    },
    {
     "data": {
      "application/vnd.jupyter.widget-view+json": {
       "model_id": "c7203932fd4a4a3588ccce49416a6717",
       "version_major": 2,
       "version_minor": 0
      },
      "text/plain": [
       "Downloading readme:   0%|          | 0.00/19.7k [00:00<?, ?B/s]"
      ]
     },
     "metadata": {},
     "output_type": "display_data"
    },
    {
     "name": "stdout",
     "output_type": "stream",
     "text": [
      "Downloading and preparing dataset amazon-reviews-2023/raw_meta_Software to C:/Users/neo/.cache/huggingface/datasets/McAuley-Lab___amazon-reviews-2023/raw_meta_Software/0.0.0/16b76e0823d73bb8cff1e9c5e3e37dbc46ae3daee380417ae141f5e67d3ea8e8...\n"
     ]
    },
    {
     "data": {
      "application/vnd.jupyter.widget-view+json": {
       "model_id": "be3f570d4002448bacd57eb67f13c574",
       "version_major": 2,
       "version_minor": 0
      },
      "text/plain": [
       "Downloading data:   0%|          | 0.00/256M [00:00<?, ?B/s]"
      ]
     },
     "metadata": {},
     "output_type": "display_data"
    },
    {
     "data": {
      "application/vnd.jupyter.widget-view+json": {
       "model_id": "",
       "version_major": 2,
       "version_minor": 0
      },
      "text/plain": [
       "Generating full split: 0 examples [00:00, ? examples/s]"
      ]
     },
     "metadata": {},
     "output_type": "display_data"
    },
    {
     "name": "stdout",
     "output_type": "stream",
     "text": [
      "Dataset amazon-reviews-2023 downloaded and prepared to C:/Users/neo/.cache/huggingface/datasets/McAuley-Lab___amazon-reviews-2023/raw_meta_Software/0.0.0/16b76e0823d73bb8cff1e9c5e3e37dbc46ae3daee380417ae141f5e67d3ea8e8. Subsequent calls will reuse this data.\n",
      "Downloading and preparing dataset amazon-reviews-2023/raw_review_Software to C:/Users/neo/.cache/huggingface/datasets/McAuley-Lab___amazon-reviews-2023/raw_review_Software/0.0.0/16b76e0823d73bb8cff1e9c5e3e37dbc46ae3daee380417ae141f5e67d3ea8e8...\n"
     ]
    },
    {
     "data": {
      "application/vnd.jupyter.widget-view+json": {
       "model_id": "0fb9a67ee11c477c94688a381811b447",
       "version_major": 2,
       "version_minor": 0
      },
      "text/plain": [
       "Downloading data:   0%|          | 0.00/1.87G [00:00<?, ?B/s]"
      ]
     },
     "metadata": {},
     "output_type": "display_data"
    },
    {
     "data": {
      "application/vnd.jupyter.widget-view+json": {
       "model_id": "",
       "version_major": 2,
       "version_minor": 0
      },
      "text/plain": [
       "Generating full split: 0 examples [00:00, ? examples/s]"
      ]
     },
     "metadata": {},
     "output_type": "display_data"
    },
    {
     "name": "stdout",
     "output_type": "stream",
     "text": [
      "Dataset amazon-reviews-2023 downloaded and prepared to C:/Users/neo/.cache/huggingface/datasets/McAuley-Lab___amazon-reviews-2023/raw_review_Software/0.0.0/16b76e0823d73bb8cff1e9c5e3e37dbc46ae3daee380417ae141f5e67d3ea8e8. Subsequent calls will reuse this data.\n"
     ]
    },
    {
     "name": "stderr",
     "output_type": "stream",
     "text": [
      "C:\\Users\\neo\\anaconda3\\lib\\site-packages\\datasets\\table.py:1421: FutureWarning: promote has been superseded by promote_options='default'.\n",
      "  table = cls._concat_blocks(blocks, axis=0)\n"
     ]
    },
    {
     "data": {
      "text/html": [
       "<div>\n",
       "<style scoped>\n",
       "    .dataframe tbody tr th:only-of-type {\n",
       "        vertical-align: middle;\n",
       "    }\n",
       "\n",
       "    .dataframe tbody tr th {\n",
       "        vertical-align: top;\n",
       "    }\n",
       "\n",
       "    .dataframe thead th {\n",
       "        text-align: right;\n",
       "    }\n",
       "</style>\n",
       "<table border=\"1\" class=\"dataframe\">\n",
       "  <thead>\n",
       "    <tr style=\"text-align: right;\">\n",
       "      <th></th>\n",
       "      <th>product_title</th>\n",
       "      <th>star_rating</th>\n",
       "      <th>review_body</th>\n",
       "      <th>verified_purchase</th>\n",
       "    </tr>\n",
       "  </thead>\n",
       "  <tbody>\n",
       "    <tr>\n",
       "      <th>2068009</th>\n",
       "      <td>ES File Explorer File Manager</td>\n",
       "      <td>3.0</td>\n",
       "      <td>It seems to only be capable of recognizing a f...</td>\n",
       "      <td>True</td>\n",
       "    </tr>\n",
       "    <tr>\n",
       "      <th>4343186</th>\n",
       "      <td>Bubble Witch 2 Saga</td>\n",
       "      <td>5.0</td>\n",
       "      <td>This game has change  over the years and its s...</td>\n",
       "      <td>True</td>\n",
       "    </tr>\n",
       "    <tr>\n",
       "      <th>2496416</th>\n",
       "      <td>[Old Version] TurboTax Deluxe Federal + E-File...</td>\n",
       "      <td>5.0</td>\n",
       "      <td>This is the first time in a long time that I r...</td>\n",
       "      <td>True</td>\n",
       "    </tr>\n",
       "    <tr>\n",
       "      <th>1975936</th>\n",
       "      <td>GraveStompers: Kid Zombies Save Eradiction!</td>\n",
       "      <td>4.0</td>\n",
       "      <td>Overall a good game although it is a \"freemium...</td>\n",
       "      <td>True</td>\n",
       "    </tr>\n",
       "    <tr>\n",
       "      <th>2666854</th>\n",
       "      <td>Max</td>\n",
       "      <td>1.0</td>\n",
       "      <td>This has been an awful experience. I love all ...</td>\n",
       "      <td>True</td>\n",
       "    </tr>\n",
       "    <tr>\n",
       "      <th>...</th>\n",
       "      <td>...</td>\n",
       "      <td>...</td>\n",
       "      <td>...</td>\n",
       "      <td>...</td>\n",
       "    </tr>\n",
       "    <tr>\n",
       "      <th>145526</th>\n",
       "      <td>FileMaker Pro 18 Advanced Mac/Win V18</td>\n",
       "      <td>1.0</td>\n",
       "      <td>I could not import or transfer my older record...</td>\n",
       "      <td>True</td>\n",
       "    </tr>\n",
       "    <tr>\n",
       "      <th>3591585</th>\n",
       "      <td>Scribblenauts Remix</td>\n",
       "      <td>3.0</td>\n",
       "      <td>At 99 cents it's a great purchase for your kid...</td>\n",
       "      <td>True</td>\n",
       "    </tr>\n",
       "    <tr>\n",
       "      <th>221449</th>\n",
       "      <td>Dr. Panda Veggie Garden</td>\n",
       "      <td>4.0</td>\n",
       "      <td>My girls love all of the Dr. Panda games. Thes...</td>\n",
       "      <td>True</td>\n",
       "    </tr>\n",
       "    <tr>\n",
       "      <th>2515441</th>\n",
       "      <td>Minion Rush: Running game</td>\n",
       "      <td>5.0</td>\n",
       "      <td>I absolutely loooove this game!!! it's very ad...</td>\n",
       "      <td>True</td>\n",
       "    </tr>\n",
       "    <tr>\n",
       "      <th>523417</th>\n",
       "      <td>Beat The Boss 3</td>\n",
       "      <td>2.0</td>\n",
       "      <td>This one is great but the second one was bette...</td>\n",
       "      <td>True</td>\n",
       "    </tr>\n",
       "  </tbody>\n",
       "</table>\n",
       "<p>100000 rows × 4 columns</p>\n",
       "</div>"
      ],
      "text/plain": [
       "                                             product_title  star_rating  \\\n",
       "2068009                      ES File Explorer File Manager          3.0   \n",
       "4343186                                Bubble Witch 2 Saga          5.0   \n",
       "2496416  [Old Version] TurboTax Deluxe Federal + E-File...          5.0   \n",
       "1975936        GraveStompers: Kid Zombies Save Eradiction!          4.0   \n",
       "2666854                                                Max          1.0   \n",
       "...                                                    ...          ...   \n",
       "145526               FileMaker Pro 18 Advanced Mac/Win V18          1.0   \n",
       "3591585                                Scribblenauts Remix          3.0   \n",
       "221449                             Dr. Panda Veggie Garden          4.0   \n",
       "2515441                          Minion Rush: Running game          5.0   \n",
       "523417                                     Beat The Boss 3          2.0   \n",
       "\n",
       "                                               review_body  verified_purchase  \n",
       "2068009  It seems to only be capable of recognizing a f...               True  \n",
       "4343186  This game has change  over the years and its s...               True  \n",
       "2496416  This is the first time in a long time that I r...               True  \n",
       "1975936  Overall a good game although it is a \"freemium...               True  \n",
       "2666854  This has been an awful experience. I love all ...               True  \n",
       "...                                                    ...                ...  \n",
       "145526   I could not import or transfer my older record...               True  \n",
       "3591585  At 99 cents it's a great purchase for your kid...               True  \n",
       "221449   My girls love all of the Dr. Panda games. Thes...               True  \n",
       "2515441  I absolutely loooove this game!!! it's very ad...               True  \n",
       "523417   This one is great but the second one was bette...               True  \n",
       "\n",
       "[100000 rows x 4 columns]"
      ]
     },
     "execution_count": 4,
     "metadata": {},
     "output_type": "execute_result"
    }
   ],
   "source": [
    "dataset_category = \"Software\" \n",
    "meta_ds = load_dataset(\"McAuley-Lab/Amazon-Reviews-2023\", f\"raw_meta_{dataset_category}\", split='full').to_pandas()[['parent_asin', 'title']]\n",
    "review_ds = load_dataset(\"McAuley-Lab/Amazon-Reviews-2023\", f\"raw_review_{dataset_category}\", split='full').to_pandas()[['parent_asin', 'rating', 'text', 'verified_purchase']]\n",
    "\n",
    "ds = meta_ds.merge(review_ds, on='parent_asin', how='inner').drop(columns=\"parent_asin\")\n",
    "ds = ds.rename(columns={\"rating\":\"star_rating\", \"title\":\"product_title\", \"text\":\"review_body\"})\n",
    "\n",
    "ds = ds[ds['verified_purchase'] & (ds['review_body'].map(len) > 100)].sample(100_000)\n",
    "ds"
   ]
  },
  {
   "cell_type": "code",
   "execution_count": 7,
   "id": "fc8fec18",
   "metadata": {},
   "outputs": [
    {
     "data": {
      "application/vnd.jupyter.widget-view+json": {
       "model_id": "",
       "version_major": 2,
       "version_minor": 0
      },
      "text/plain": [
       "Stringifying the column:   0%|          | 0/100000 [00:00<?, ? examples/s]"
      ]
     },
     "metadata": {},
     "output_type": "display_data"
    },
    {
     "data": {
      "application/vnd.jupyter.widget-view+json": {
       "model_id": "",
       "version_major": 2,
       "version_minor": 0
      },
      "text/plain": [
       "Casting to class labels:   0%|          | 0/100000 [00:00<?, ? examples/s]"
      ]
     },
     "metadata": {},
     "output_type": "display_data"
    },
    {
     "name": "stdout",
     "output_type": "stream",
     "text": [
      "{'product_title': 'Photo Lab PRO photo editor', 'star_rating': 4, 'review_body': \"Love it it's awesome I can spend hours editing pictures. I highly recommend  this app to any photographer  too\", 'verified_purchase': True, '__index_level_0__': 4357427}\n"
     ]
    }
   ],
   "source": [
    "# loading the dataset\n",
    "dataset = Dataset.from_pandas(ds)\n",
    "\n",
    "# encoding the 'star_rating' column\n",
    "dataset = dataset.class_encode_column(\"star_rating\")\n",
    "\n",
    "# Splitting the dataset into training and testing sets\n",
    "dataset = dataset.train_test_split(test_size=0.1, seed=42, stratify_by_column=\"star_rating\")\n",
    "\n",
    "train_dataset = dataset['train']\n",
    "test_dataset = dataset['test']\n",
    "print(train_dataset[0])"
   ]
  },
  {
   "cell_type": "code",
   "execution_count": 9,
   "id": "fcd954eb",
   "metadata": {},
   "outputs": [
    {
     "ename": "ImportError",
     "evalue": "\nT5Tokenizer requires the SentencePiece library but it was not found in your environment. Checkout the instructions on the\ninstallation page of its repo: https://github.com/google/sentencepiece#installation and follow the ones\nthat match your environment. Please note that you may need to restart your runtime after installation.\n",
     "output_type": "error",
     "traceback": [
      "\u001b[1;31m---------------------------------------------------------------------------\u001b[0m",
      "\u001b[1;31mImportError\u001b[0m                               Traceback (most recent call last)",
      "Cell \u001b[1;32mIn[9], line 2\u001b[0m\n\u001b[0;32m      1\u001b[0m MODEL_NAME \u001b[38;5;241m=\u001b[39m \u001b[38;5;124m'\u001b[39m\u001b[38;5;124mt5-base\u001b[39m\u001b[38;5;124m'\u001b[39m\n\u001b[1;32m----> 2\u001b[0m tokenizer \u001b[38;5;241m=\u001b[39m \u001b[43mT5Tokenizer\u001b[49m\u001b[38;5;241;43m.\u001b[39;49m\u001b[43mfrom_pretrained\u001b[49m(\u001b[38;5;124m'\u001b[39m\u001b[38;5;124mt5-base\u001b[39m\u001b[38;5;124m'\u001b[39m)\n",
      "File \u001b[1;32m~\\anaconda3\\lib\\site-packages\\transformers\\utils\\import_utils.py:992\u001b[0m, in \u001b[0;36mDummyObject.__getattr__\u001b[1;34m(cls, key)\u001b[0m\n\u001b[0;32m    990\u001b[0m \u001b[38;5;28;01mif\u001b[39;00m key\u001b[38;5;241m.\u001b[39mstartswith(\u001b[38;5;124m\"\u001b[39m\u001b[38;5;124m_\u001b[39m\u001b[38;5;124m\"\u001b[39m):\n\u001b[0;32m    991\u001b[0m     \u001b[38;5;28;01mreturn\u001b[39;00m \u001b[38;5;28msuper\u001b[39m()\u001b[38;5;241m.\u001b[39m\u001b[38;5;21m__getattr__\u001b[39m(\u001b[38;5;28mcls\u001b[39m, key)\n\u001b[1;32m--> 992\u001b[0m \u001b[43mrequires_backends\u001b[49m\u001b[43m(\u001b[49m\u001b[38;5;28;43mcls\u001b[39;49m\u001b[43m,\u001b[49m\u001b[43m \u001b[49m\u001b[38;5;28;43mcls\u001b[39;49m\u001b[38;5;241;43m.\u001b[39;49m\u001b[43m_backends\u001b[49m\u001b[43m)\u001b[49m\n",
      "File \u001b[1;32m~\\anaconda3\\lib\\site-packages\\transformers\\utils\\import_utils.py:980\u001b[0m, in \u001b[0;36mrequires_backends\u001b[1;34m(obj, backends)\u001b[0m\n\u001b[0;32m    978\u001b[0m failed \u001b[38;5;241m=\u001b[39m [msg\u001b[38;5;241m.\u001b[39mformat(name) \u001b[38;5;28;01mfor\u001b[39;00m available, msg \u001b[38;5;129;01min\u001b[39;00m checks \u001b[38;5;28;01mif\u001b[39;00m \u001b[38;5;129;01mnot\u001b[39;00m available()]\n\u001b[0;32m    979\u001b[0m \u001b[38;5;28;01mif\u001b[39;00m failed:\n\u001b[1;32m--> 980\u001b[0m     \u001b[38;5;28;01mraise\u001b[39;00m \u001b[38;5;167;01mImportError\u001b[39;00m(\u001b[38;5;124m\"\u001b[39m\u001b[38;5;124m\"\u001b[39m\u001b[38;5;241m.\u001b[39mjoin(failed))\n",
      "\u001b[1;31mImportError\u001b[0m: \nT5Tokenizer requires the SentencePiece library but it was not found in your environment. Checkout the instructions on the\ninstallation page of its repo: https://github.com/google/sentencepiece#installation and follow the ones\nthat match your environment. Please note that you may need to restart your runtime after installation.\n"
     ]
    }
   ],
   "source": [
    "MODEL_NAME = 't5-base'\n",
    "tokenizer = T5Tokenizer.from_pretrained('t5-base')"
   ]
  },
  {
   "cell_type": "code",
   "execution_count": null,
   "id": "9e51781d",
   "metadata": {},
   "outputs": [],
   "source": [
    "# Defining the function to preprocess the data\n",
    "def preprocess_data(examples):\n",
    "    examples['prompt'] = [f\"review: {example['product_title']}, {example['star_rating']} Stars!\" for example in examples]\n",
    "    examples['response'] = [f\"{example['review_headline']} {example['review_body']}\" for example in examples]\n",
    "\n",
    "    inputs = tokenizer(examples['prompt'], padding='max_length', truncation=True, max_length=128)\n",
    "    targets = tokenizer(examples['response'], padding='max_length', truncation=True, max_length=128)\n",
    "\n",
    "    # Set -100 at the padding positions of target tokens\n",
    "    target_input_ids = []\n",
    "    for ids in targets['input_ids']:\n",
    "        target_input_ids.append([id if id != tokenizer.pad_token_id else -100 for id in ids])\n",
    "\n",
    "    inputs.update({'labels': target_input_ids})\n",
    "    return inputs"
   ]
  },
  {
   "cell_type": "code",
   "execution_count": null,
   "id": "8414f1e7",
   "metadata": {},
   "outputs": [],
   "source": [
    "train_dataset = train_dataset.map(preprocess_data, batched=True)\n",
    "test_dataset = test_dataset.map(preprocess_data, batched=True)\n",
    "\n",
    "data_collator = DataCollatorWithPadding(tokenizer=tokenizer)"
   ]
  },
  {
   "cell_type": "code",
   "execution_count": null,
   "id": "1f19a028",
   "metadata": {},
   "outputs": [],
   "source": [
    "# proceeding to fine-tune the T5 model on our dataset\n",
    "\n",
    "model = T5ForConditionalGeneration.from_pretrained(MODEL_NAME)\n",
    "\n",
    "TRAINING_OUTPUT = \"./models/t5_fine_tuned_reviews\"\n",
    "training_args = TrainingArguments(\n",
    "    output_dir=TRAINING_OUTPUT,\n",
    "    num_train_epochs=3,\n",
    "    per_device_train_batch_size=12,\n",
    "    per_device_eval_batch_size=12,\n",
    "    save_strategy='epoch',\n",
    ")\n",
    "\n",
    "trainer = Trainer(\n",
    "    model=model,\n",
    "    args=training_args,\n",
    "    train_dataset=train_dataset,\n",
    "    data_collator=data_collator,\n",
    ")\n",
    "\n",
    "trainer.train()"
   ]
  },
  {
   "cell_type": "code",
   "execution_count": 10,
   "id": "496de90b",
   "metadata": {},
   "outputs": [
    {
     "ename": "NameError",
     "evalue": "name 'trainer' is not defined",
     "output_type": "error",
     "traceback": [
      "\u001b[1;31m---------------------------------------------------------------------------\u001b[0m",
      "\u001b[1;31mNameError\u001b[0m                                 Traceback (most recent call last)",
      "Cell \u001b[1;32mIn[10], line 1\u001b[0m\n\u001b[1;32m----> 1\u001b[0m \u001b[43mtrainer\u001b[49m\u001b[38;5;241m.\u001b[39msave_model(TRAINING_OUTPUT)\n",
      "\u001b[1;31mNameError\u001b[0m: name 'trainer' is not defined"
     ]
    }
   ],
   "source": [
    "trainer.save_model(TRAINING_OUTPUT) # demonstrating on how to use it by saving it for later use"
   ]
  },
  {
   "cell_type": "code",
   "execution_count": null,
   "id": "fabd5f62",
   "metadata": {},
   "outputs": [],
   "source": [
    "# Loading the fine-tuned model\n",
    "model = T5ForConditionalGeneration.from_pretrained(TRAINING_OUTPUT)\n",
    "\n",
    "# or get it directly trained from here:\n",
    "# model = T5ForConditionalGeneration.from_pretrained(\"TheFuzzyScientist/T5-base_Amazon-product-reviews\")"
   ]
  },
  {
   "cell_type": "code",
   "execution_count": null,
   "id": "c743f800",
   "metadata": {},
   "outputs": [],
   "source": [
    "## we use our fine-tuned model to generate reviews for new products.\n",
    "# Defining the function to generate reviews\n",
    "\n",
    "def generate_review(text):\n",
    "    inputs = tokenizer(\"review: \" + text, return_tensors='pt', max_length=512, padding='max_length', truncation=True)\n",
    "    outputs = model.generate(inputs['input_ids'], max_length=128, no_repeat_ngram_size=3, num_beams=6, early_stopping=True)\n",
    "    summary = tokenizer.decode(outputs[0], skip_special_tokens=True)\n",
    "    return summary"
   ]
  },
  {
   "cell_type": "code",
   "execution_count": null,
   "id": "c9b3102a",
   "metadata": {},
   "outputs": [],
   "source": [
    "# Generating reviews for random products\n",
    "random_products = test_dataset.shuffle(42).select(range(10))['product_title']\n",
    "\n",
    "print(generate_review(random_products[0] + \", 3 Stars!\"))\n",
    "print(generate_review(random_products[1] + \", 5 Stars!\"))\n",
    "print(generate_review(random_products[2] + \", 2 Stars!\"))"
   ]
  },
  {
   "cell_type": "code",
   "execution_count": null,
   "id": "2737a222",
   "metadata": {},
   "outputs": [],
   "source": []
  },
  {
   "cell_type": "code",
   "execution_count": null,
   "id": "1f2555c8",
   "metadata": {},
   "outputs": [],
   "source": []
  }
 ],
 "metadata": {
  "kernelspec": {
   "display_name": "Python 3 (ipykernel)",
   "language": "python",
   "name": "python3"
  },
  "language_info": {
   "codemirror_mode": {
    "name": "ipython",
    "version": 3
   },
   "file_extension": ".py",
   "mimetype": "text/x-python",
   "name": "python",
   "nbconvert_exporter": "python",
   "pygments_lexer": "ipython3",
   "version": "3.10.9"
  }
 },
 "nbformat": 4,
 "nbformat_minor": 5
}
